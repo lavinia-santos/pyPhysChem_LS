{
 "cells": [
  {
   "cell_type": "code",
   "execution_count": 1,
   "id": "269396e1-4699-46d7-b7bc-8ef342174c94",
   "metadata": {},
   "outputs": [
    {
     "name": "stdout",
     "output_type": "stream",
     "text": [
      "/home/ctm/PytChem\n"
     ]
    },
    {
     "data": {
      "text/html": [
       "<style>\n",
       "h1, h2, h3, h4, h5, h6 {\n",
       "  font-family: Verdana, \"DejaVu Sans\", \"Bitstream Vera Sans\", Geneva, sans-serif;\n",
       "  font-weight: bold;\n",
       "}\n",
       "body, intro, introE, rq, rqE, ex, exE, app, appE, sol  {\n",
       "  font-family: Verdana, \"DejaVu Sans\", \"Bitstream Vera Sans\", Geneva, sans-serif;\n",
       "  font-weight: 400;\n",
       "  font-size: 12px;\n",
       "}\n",
       "h1 {\n",
       "  border: 0 solid #333;\n",
       "  padding: 30px ;\n",
       "  color: white;\n",
       "  background: #b11d01;\n",
       "  text-align: center;\n",
       "}\n",
       "h2 {\n",
       "  border: 3px solid #333;\n",
       "  padding: 18px ;\n",
       "  color: #b11d01;\n",
       "  background: #ffffff;\n",
       "  text-align: center;\n",
       "}\n",
       "h3 {\n",
       "  border: 0 solid #333;\n",
       "  padding: 12px ;\n",
       "  color: #000000;\n",
       "  background: #c1c1c1;\n",
       "  text-align: left;\n",
       "}\n",
       "h4 {\n",
       "  border: 0 solid #333;\n",
       "  padding: 2px ;\n",
       "  color: #000000;\n",
       "  background: #d9fffc;\n",
       "  text-align: left;\n",
       "}\n",
       "h5 {\n",
       "  border: 1px solid #333;\n",
       "  padding: 2px ;\n",
       "  color: #000000;\n",
       "  background: #ffffff;\n",
       "  text-align: left;\n",
       "}\n",
       ".introT::before {    \n",
       "    content: attr(title);\n",
       "    background-color: #cecece;\n",
       "    margin-left:-0.5em;\n",
       "    margin-right:-0.5em;\n",
       "    padding-left:0.5em;\n",
       "    padding-right:0.5em;\n",
       "    font-weight: 600;\n",
       "    display: block;\n",
       "}\n",
       ".introT {    \n",
       "    background-color: #cecece80;\n",
       "    border-color: #969696;\n",
       "    border-left: 5px solid #969696;\n",
       "    padding: 0.5em;\n",
       "}\n",
       ".intro {    \n",
       "    background-color: #cecece80;\n",
       "    border-color: #969696;\n",
       "    border-left: 5px solid #969696;\n",
       "    padding: 0.5em;\n",
       "}\n",
       ".introE {    \n",
       "    background-color: #cecece80;\n",
       "    border-color: #969696;\n",
       "    border-left: 5px solid #969696;\n",
       "    padding: 0.5em;\n",
       "    color : #117996;\n",
       "}\n",
       ".rq {    \n",
       "    background-color: #fcf2f2;\n",
       "    border-color: #dFb5b4;\n",
       "    border-left: 5px solid #dfb5b4;\n",
       "    padding: 0.5em;\n",
       "}\n",
       ".rqE::before {    \n",
       "    background-color: #fcd3d3;\n",
       "    color: #ff0000;\n",
       "    content:\"Warning\";\n",
       "    margin-left:-0.5em;\n",
       "    margin-right:-0.5em;\n",
       "    padding-left:0.5em;\n",
       "    padding-right:0.5em;\n",
       "    font-weight: 600;\n",
       "    display: block;\n",
       "}\n",
       ".rqE {    \n",
       "    background-color: #fcd3d380;\n",
       "    border-color: #dFb5b4;\n",
       "    border-left: 5px solid #dfb5b4;\n",
       "    padding: 0.5em;\n",
       "}\n",
       ".rqT::before {    \n",
       "    background-color: #fcd3d3;\n",
       "    color: #ff0000;\n",
       "    content: attr(title);\n",
       "    margin-left:-0.5em;\n",
       "    margin-right:-0.5em;\n",
       "    padding-left:0.5em;\n",
       "    padding-right:0.5em;\n",
       "    font-weight: 600;\n",
       "    display: block;\n",
       "}\n",
       ".rqT {    \n",
       "    background-color: #fcd3d380;\n",
       "    border-color: #dFb5b4;\n",
       "    border-left: 5px solid #dfb5b4;\n",
       "    padding: 0.5em;\n",
       "}\n",
       ".exold {    \n",
       "    background-color: #b2dbea80;\n",
       "    border-color: #0055ff;\n",
       "    border-left: 10px solid #0055ff;\n",
       "    padding: 0.5em;\n",
       "}\n",
       ".ex {    \n",
       "    background-color: #b2dbea80;\n",
       "    padding: 0.5em;\n",
       "    padding-top: 0em;\n",
       "    position:relative;\n",
       "}\n",
       ".ex::before {\n",
       "    background-color: #b2dbea;\n",
       "    content:\"Exercice\";\n",
       "    margin-left:-0.5em;\n",
       "    margin-right:-0.5em;\n",
       "    padding-left:0.5em;\n",
       "    padding-right:0.5em;\n",
       "    font-weight: 600;\n",
       "    display: block;\n",
       "}\n",
       ".exE {    \n",
       "    background-color: #b2dbea80;\n",
       "    padding: 0.5em;\n",
       "    padding-top: 0em;\n",
       "    position:relative;\n",
       "    color : #117996;\n",
       "}\n",
       ".exE::before {\n",
       "    background-color: #b2dbea;\n",
       "    content:\"Exercise\";\n",
       "    margin-left:-0.5em;\n",
       "    margin-right:-0.5em;\n",
       "    padding-left:0.5em;\n",
       "    padding-right:0.5em;\n",
       "    font-weight: 600;\n",
       "    display: block;\n",
       "    color : #117996;\n",
       "}\n",
       ".app {    \n",
       "    background-color: #b2dbea80;\n",
       "    padding: 0.5em;\n",
       "    padding-top: 0em;\n",
       "    position:relative;\n",
       "}\n",
       ".app::before {\n",
       "    background-color: #b2dbea;\n",
       "    content:\"Application\";\n",
       "    margin-left:-0.5em;\n",
       "    margin-right:-0.5em;\n",
       "    padding-left:0.5em;\n",
       "    padding-right:0.5em;\n",
       "    font-weight: 600;\n",
       "    display: block;\n",
       "}\n",
       ".appE {    \n",
       "    background-color: #b2dbea80;\n",
       "    padding: 0.5em;\n",
       "    padding-top: 0em;\n",
       "    color : #117996;\n",
       "    position:relative;\n",
       "}\n",
       ".appE::before {\n",
       "    background-color: #b2dbea;\n",
       "    content:\"Application\";\n",
       "    margin-left:-0.5em;\n",
       "    margin-right:-0.5em;\n",
       "    padding-left:0.5em;\n",
       "    padding-right:0.5em;\n",
       "    font-weight: 600;\n",
       "    color : #117996;\n",
       "    display: block;\n",
       "}\n",
       ".sol {    \n",
       "    background-color: #bbeab880;\n",
       "    padding: 0.5em;\n",
       "    padding-top: 0em;\n",
       "    position:relative;\n",
       "}\n",
       ".sol::before {\n",
       "    background-color: #bbeab8;\n",
       "    content:\"Answer\";\n",
       "    margin-left:-0.5em;\n",
       "    margin-right:-0.5em;\n",
       "    padding-left:0.5em;\n",
       "    padding-right:0.5em;\n",
       "    font-weight: 600;\n",
       "    display: block;\n",
       "}\n",
       "</style>\n"
      ],
      "text/plain": [
       "<IPython.core.display.HTML object>"
      ]
     },
     "metadata": {},
     "output_type": "display_data"
    },
    {
     "data": {
      "text/markdown": [
       "**Start at:** Tuesday 05 December 2023, 19:23:37  \n",
       "**Hostname:** localhost.localdomain (Linux)"
      ],
      "text/plain": [
       "<IPython.core.display.Markdown object>"
      ]
     },
     "metadata": {},
     "output_type": "display_data"
    },
    {
     "data": {
      "text/markdown": [
       "<p style=\"text-align: center\"><img width=\"800px\" src=\"./config/svg/PytChemBanner.svg\" style=\"margin-left:auto; margin-right:auto\"/></p>"
      ],
      "text/plain": [
       "<IPython.core.display.Markdown object>"
      ]
     },
     "metadata": {},
     "output_type": "display_data"
    }
   ],
   "source": [
    "import os\n",
    "import sys\n",
    "\n",
    "print(os.getcwd())\n",
    "cwd0 = './config/'\n",
    "sys.path.append(cwd0)\n",
    "\n",
    "import visualID_Eng as vID\n",
    "from visualID_Eng import fg,bg,hl,color\n",
    "vID.init(cwd0)\n",
    "\n",
    "import tools4PytChem as t4pPC\n",
    "\n",
    "#cancel the \"last show-up\" behaviour of Jupyter notebooks\n",
    "from IPython.core.interactiveshell import InteractiveShell\n",
    "InteractiveShell.ast_node_interactivity = \"all\"\n",
    "\n",
    "__author__ = \"Thierry Leininger, LCPQ (CNRS-UT3 lab, Toulouse, France)\""
   ]
  },
  {
   "cell_type": "markdown",
   "id": "8c39132a",
   "metadata": {
    "tags": []
   },
   "source": [
    " # Harmonic Oscillator\n",
    "\n",
    "## Introduction\n",
    "\n",
    "<div class=\"intro\">\n",
    "\n",
    "In this project, we propose to solve the Schrödinger equation for the one-dimensional quantum harmonic oscillator and vizualise the corresponding solutions and some of their properties. As usual, the Schrödinger equation reads:\n",
    "\n",
    "$$\\hat{H}(x)\\psi_v(x)=E_v\\psi_v(x)$$\n",
    "\n",
    "with $\\hat{H}=\\hat{T}+\\hat{V}$\n",
    "\n",
    "The kinetic energy is given by $ \\hat{T}= \\frac{\\hat{p}^2}{2m} $ which, with $\\hat{p}=- i\\hbar \\frac{\\partial}{\\partial \\hat{x}}$, becomes\n",
    "\n",
    "\n",
    "$$ \\hat{T}=-\\frac{\\hbar^{2}}{2m} \\frac{\\partial}{\\partial x^2}$$\n",
    "\n",
    "In the case of the harmonic oscillator the potential energy of the particle is simply \n",
    "$$\\hat{V} = \\frac{1}{2}kx^2$$\n",
    "\n",
    "\n",
    "Thus, the Schrodinger equation one has to solve is \n",
    "    \n",
    "$$[-\\frac{\\hbar^{2}}{2m} \\frac{\\partial}{\\partial x^2}+\\frac{1}{2}kx^2]\\psi_v(x) = E_v\\psi_v(x)$$\n",
    "\n",
    "</div>"
   ]
  },
  {
   "cell_type": "markdown",
   "id": "ed1cf25e",
   "metadata": {},
   "source": [
    "<div class=\"exE\">\n",
    "\n",
    "- From now on, we will choose $\\hbar=m=k=1$. Plot the corresponding harmonic potential.\n",
    "</div>"
   ]
  },
  {
   "cell_type": "code",
   "execution_count": 16,
   "id": "ed2ff2bb",
   "metadata": {},
   "outputs": [
    {
     "data": {
      "text/plain": [
       "[<matplotlib.lines.Line2D at 0x7fa677523690>]"
      ]
     },
     "execution_count": 16,
     "metadata": {},
     "output_type": "execute_result"
    },
    {
     "data": {
      "text/plain": [
       "Text(0.5, 1.0, 'Harmonic Potential vs. $x$')"
      ]
     },
     "execution_count": 16,
     "metadata": {},
     "output_type": "execute_result"
    },
    {
     "data": {
      "text/plain": [
       "Text(0.5, 0, '$x$')"
      ]
     },
     "execution_count": 16,
     "metadata": {},
     "output_type": "execute_result"
    },
    {
     "data": {
      "text/plain": [
       "Text(0, 0.5, '$V_{harmonic}$')"
      ]
     },
     "execution_count": 16,
     "metadata": {},
     "output_type": "execute_result"
    },
    {
     "data": {
      "text/plain": [
       "<matplotlib.legend.Legend at 0x7fa6773be8d0>"
      ]
     },
     "execution_count": 16,
     "metadata": {},
     "output_type": "execute_result"
    },
    {
     "data": {
      "image/png": "[encoded data removed]",
      "text/plain": [
       "<Figure size 640x480 with 1 Axes>"
      ]
     },
     "metadata": {},
     "output_type": "display_data"
    }
   ],
   "source": [
    "# insert your code here\n",
    "import sympy as sp\n",
    "import matplotlib.pyplot as plt\n",
    "import numpy as np\n",
    "\n",
    "#defining the function\n",
    "def harmpot(x):\n",
    "    \"\"\"\n",
    "    This function evaluates the harmonic potential of a given distance x        \n",
    "    input: distance x\n",
    "    output: the harmonic potential\n",
    "    \"\"\"\n",
    "    k=1\n",
    "    V=(1/2)*k*(x**2)\n",
    "    return V\n",
    "\n",
    "x=sp.symbols('x')\n",
    "\n",
    "#lambdifying the function\n",
    "_harmpot=sp.lambdify([x], harmpot(x))\n",
    "#creating linspace\n",
    "_x = np.linspace(-5.,5.,250)\n",
    "#plotting\n",
    "plt.plot(_x, _harmpot(_x), color='red', label=\"Harmonic potential\")\n",
    "plt.title('Harmonic Potential vs. $x$')\n",
    "plt.xlabel(\"$x$\")\n",
    "plt.ylabel(\"$V_{harmonic}$\")\n",
    "plt.legend()\n",
    "plt.show()\n"
   ]
  },
  {
   "cell_type": "markdown",
   "id": "612d87bb",
   "metadata": {},
   "source": [
    "# Solutions of the Schrödinger Equation\n",
    "\n",
    "<div class=\"intro\">\n",
    "\n",
    "As suggested above, the solutions of the Quantum Harmonic Oscillator depend on a (<i>vibrational</i>) quantum number $v$.\n",
    "\n",
    "The energies ($ie$ eigenvalues) are given by\n",
    "\n",
    "$$ E_v=(v+\\frac{1}{2})\\hbar\\omega$$ with $v=0, 1, 2, ...$ and $\\omega=\\sqrt{(\\frac{k}{m})}$\n",
    "\n",
    "\n",
    "The corresponding wavefunctions ($ie$ eigenfunctions) are given by\n",
    "\n",
    "$$\\Psi_v=N_vH_ve^{-y^2/2}$$ where $N_v$ is the normalization factor, $H_v$ the <b>Hermite polynomial</b> and $y=(\\frac{mk}{\\hbar^2})^{1/4}x$.\n",
    "\n",
    "\n",
    "The <b>Hermite polynomials</b> are defined using a recurrence relation\n",
    "$$H_{v+1}=2yH_v-2vH_{v-1}$$\n",
    "with $H_0=1$ and $H_1=2y$.\n"
   ]
  },
  {
   "cell_type": "markdown",
   "id": "0b43c734",
   "metadata": {},
   "source": [
    "<div class=\"exE\">\n",
    "\n",
    "Code a `Hv(v,y)` function returning the evaluation of $v^{th}$ Hermite polynomial, $H_v$ at a given value $y$\n",
    "</div>"
   ]
  },
  {
   "cell_type": "code",
   "execution_count": 19,
   "id": "b8940288-840e-46ce-8f8c-f101c97712b0",
   "metadata": {},
   "outputs": [
    {
     "name": "stdout",
     "output_type": "stream",
     "text": [
      "\n",
      "H0: 1\n",
      "\n",
      "H1: 2.0*x\n",
      "\n",
      "H2: 4.0*x**2 - 2\n",
      "\n",
      "H3: 2.0*x*(4.0*x**2 - 2) - 8.0*x\n",
      "\n",
      "H4: -24.0*x**2 + 2.0*x*(2.0*x*(4.0*x**2 - 2) - 8.0*x) + 12\n",
      "\n",
      "H5: -16.0*x*(4.0*x**2 - 2) + 2.0*x*(-24.0*x**2 + 2.0*x*(2.0*x*(4.0*x**2 - 2) - 8.0*x) + 12) + 64.0*x\n",
      "\n",
      "H6: 240.0*x**2 - 20.0*x*(2.0*x*(4.0*x**2 - 2) - 8.0*x) + 2.0*x*(-16.0*x*(4.0*x**2 - 2) + 2.0*x*(-24.0*x**2 + 2.0*x*(2.0*x*(4.0*x**2 - 2) - 8.0*x) + 12) + 64.0*x) - 120\n"
     ]
    }
   ],
   "source": [
    "# insert your code here\n",
    "\n",
    "#setting the values for the constants and y\n",
    "hbar=1\n",
    "m=1\n",
    "k=1\n",
    "y=((m*k/(hbar**2))**(1/4))*x\n",
    "#creating a list with the hermitian polynomials already given\n",
    "H=[1,2*y]\n",
    "\n",
    "\n",
    "def Hvp1(v,y):\n",
    "    \"\"\"\n",
    "    This function evaluates the Hermitian polynomials at a given function y and level v and stores it in a list    \n",
    "    input: -v: level\n",
    "           -y:function\n",
    "    output: the hermitian polinomial at the level v\n",
    "    \"\"\"\n",
    "    if v==0:\n",
    "        Hvplus1=1\n",
    "    elif v==1:\n",
    "        Hvplus1=2*y\n",
    "    else:\n",
    "        Hvplus1=(2*y*H[v-1])-(2*(v-1)*H[v-2])\n",
    "        H.insert(v,Hvplus1)\n",
    "    return Hvplus1\n",
    "\n",
    "#evaluating the hermitian polinomials\n",
    "for i in range(0,7):\n",
    "    print(f\"\\nH{i}: {Hvp1(i,y)}\")\n",
    "\n",
    "def Hdef(v,y):\n",
    "    \"\"\"\n",
    "    This function evaluates the Hermitian polynomials at a given function y and level v but DOES NOT store it    \n",
    "    input: -v: level\n",
    "           -y:function\n",
    "    output: the hermitian polinomial at the level v\n",
    "    \"\"\"\n",
    "    Hvplus1=(2*y*H[v-1])-(2*(v-1)*H[v-2])\n",
    "    return Hvplus1\n",
    "\n",
    "\n"
   ]
  },
  {
   "cell_type": "markdown",
   "id": "f055ec10",
   "metadata": {},
   "source": [
    "<div class=\"exE\">\n",
    "\n",
    "Using the `hermite` function from `sympy`, print the first 6 Hermite polynomials and check your code written in the previous cell for a few values of <i>v</i> and <i>y</i>.\n",
    "The results will be advantageoulsy presented in a table (see example below) beside the expression of the `hermite`polynomial.\n",
    "\n",
    "<p style=\"text-align:center;\"><img width=\"280\" src = \"./tableQHO.jpg\"/></p>\n",
    "\n",
    "</div>"
   ]
  },
  {
   "cell_type": "code",
   "execution_count": 21,
   "id": "f4b57e81",
   "metadata": {},
   "outputs": [
    {
     "name": "stdout",
     "output_type": "stream",
     "text": [
      "\n",
      "v=0  H_v=1\n",
      "x     Hermite(x)     Hv(x)\n",
      "0.0     1.000          128*x**6 - 960*x**4 + 1440*x**2 - 240\n",
      "1.2     1.000          128*x**6 - 960*x**4 + 1440*x**2 - 237.6\n",
      "2.5     1.000          128*x**6 - 960*x**4 + 1440*x**2 - 235.0\n",
      "3.8     1.000          128*x**6 - 960*x**4 + 1440*x**2 - 232.4\n",
      "5.0     1.000          128*x**6 - 960*x**4 + 1440*x**2 - 230.0\n",
      "\n",
      "v=1  H_v=2*x\n",
      "x     Hermite(x)     Hv(x)\n",
      "0.0     0.000          0\n",
      "1.2     2.400          2.40000000000000\n",
      "2.5     5.000          5.00000000000000\n",
      "3.8     7.600          7.60000000000000\n",
      "5.0     10.000          10.0000000000000\n",
      "\n",
      "v=2  H_v=4*x**2 - 2\n",
      "x     Hermite(x)     Hv(x)\n",
      "0.0     -2.000          -2\n",
      "1.2     3.760          4.8*x - 2\n",
      "2.5     23.000          10.0*x - 2\n",
      "3.8     55.760          15.2*x - 2\n",
      "5.0     98.000          20.0*x - 2\n",
      "\n",
      "v=3  H_v=8*x**3 - 12*x\n",
      "x     Hermite(x)     Hv(x)\n",
      "0.0     0.000          -8.0*x\n",
      "1.2     -0.576          9.6*x**2 - 8.0*x - 4.8\n",
      "2.5     95.000          20.0*x**2 - 8.0*x - 10.0\n",
      "3.8     393.376          30.4*x**2 - 8.0*x - 15.2\n",
      "5.0     940.000          40.0*x**2 - 8.0*x - 20.0\n",
      "\n",
      "v=4  H_v=16*x**4 - 48*x**2 + 12\n",
      "x     Hermite(x)     Hv(x)\n",
      "0.0     12.000          12 - 24.0*x**2\n",
      "1.2     -23.942          -24.0*x**2 + 4.8*x*(4.0*x**2 - 2) - 19.2*x + 12\n",
      "2.5     337.000          -24.0*x**2 + 10.0*x*(4.0*x**2 - 2) - 40.0*x + 12\n",
      "3.8     2655.098          -24.0*x**2 + 15.2*x*(4.0*x**2 - 2) - 60.8*x + 12\n",
      "5.0     8812.000          -24.0*x**2 + 20.0*x*(4.0*x**2 - 2) - 80.0*x + 12\n",
      "\n",
      "v=5  H_v=32*x**5 - 160*x**3 + 120*x\n",
      "x     Hermite(x)     Hv(x)\n",
      "0.0     0.000          -16.0*x*(4.0*x**2 - 2) + 64.0*x\n",
      "1.2     -52.854          -57.6*x**2 - 16.0*x*(4.0*x**2 - 2) + 4.8*x*(2.0*x*(4.0*x**2 - 2) - 8.0*x) + 64.0*x + 28.8\n",
      "2.5     925.000          -120.0*x**2 - 16.0*x*(4.0*x**2 - 2) + 10.0*x*(2.0*x*(4.0*x**2 - 2) - 8.0*x) + 64.0*x + 60.0\n",
      "3.8     17031.734          -182.4*x**2 - 16.0*x*(4.0*x**2 - 2) + 15.2*x*(2.0*x*(4.0*x**2 - 2) - 8.0*x) + 64.0*x + 91.2\n",
      "5.0     80600.000          -240.0*x**2 - 16.0*x*(4.0*x**2 - 2) + 20.0*x*(2.0*x*(4.0*x**2 - 2) - 8.0*x) + 64.0*x + 120.0\n",
      "\n",
      "v=6  H_v=64*x**6 - 480*x**4 + 720*x**2 - 120\n",
      "x     Hermite(x)     Hv(x)\n",
      "0.0     -120.000          240.0*x**2 - 20.0*x*(2.0*x*(4.0*x**2 - 2) - 8.0*x) - 120\n",
      "1.2     112.575          240.0*x**2 - 38.4*x*(4.0*x**2 - 2) - 20.0*x*(2.0*x*(4.0*x**2 - 2) - 8.0*x) + 4.8*x*(-24.0*x**2 + 2.0*x*(2.0*x*(4.0*x**2 - 2) - 8.0*x) + 12) + 153.6*x - 120\n",
      "2.5     1255.000          240.0*x**2 - 80.0*x*(4.0*x**2 - 2) - 20.0*x*(2.0*x*(4.0*x**2 - 2) - 8.0*x) + 10.0*x*(-24.0*x**2 + 2.0*x*(2.0*x*(4.0*x**2 - 2) - 8.0*x) + 12) + 320.0*x - 120\n",
      "3.8     102890.201          240.0*x**2 - 121.6*x*(4.0*x**2 - 2) - 20.0*x*(2.0*x*(4.0*x**2 - 2) - 8.0*x) + 15.2*x*(-24.0*x**2 + 2.0*x*(2.0*x*(4.0*x**2 - 2) - 8.0*x) + 12) + 486.4*x - 120\n",
      "5.0     717880.000          240.0*x**2 - 160.0*x*(4.0*x**2 - 2) - 20.0*x*(2.0*x*(4.0*x**2 - 2) - 8.0*x) + 20.0*x*(-24.0*x**2 + 2.0*x*(2.0*x*(4.0*x**2 - 2) - 8.0*x) + 12) + 640.0*x - 120\n"
     ]
    }
   ],
   "source": [
    "#insert your code here\n",
    "\n",
    "#creating the lists to be used in this cell\n",
    "herm=[]\n",
    "v=[]\n",
    "herm_c=[]\n",
    "herm_calc=[]\n",
    "xj=[]\n",
    "Hp=[]\n",
    "x_range=[0.0,1.2,2.5,3.8,5.0]\n",
    "\n",
    "#storing the values of the hermite function\n",
    "for i in range (0,7):\n",
    "    herm.insert(i,sp.hermite(i,x))\n",
    "    v.insert(i,i)\n",
    "    \n",
    "#printing and comparing the values\n",
    "for l in range(0,7):\n",
    "    print(f\"\\nv={v[l]}  H_v={herm[l]}\")\n",
    "    H.append(herm[l])\n",
    "    print(\"x     Hermite(x)     Hv(x)\")\n",
    "    for j in x_range:\n",
    "        herm_csp=sp.hermite(v[l],j)\n",
    "        if v[k]<=1:\n",
    "            herm_cmf=Hdef(v[l],j)\n",
    "            print(f\"{j}     {herm_csp:.3f}          {herm_cmf}\")\n",
    "        else:\n",
    "            herm_cmf=Hdef(v[l],j).subs({x:j})\n",
    "            print(f\"{j}     {herm_csp:.3f}          {herm_cmf:.3f}\")\n",
    "\n",
    "   "
   ]
  },
  {
   "cell_type": "markdown",
   "id": "db2cc40b",
   "metadata": {},
   "source": [
    "<div class=\"exE\">\n",
    "\n",
    "Use the previous expression of the Hermite polynomials to verify with `sympy` that the normalization factor $N_v$ \n",
    "are given by $N=(\\pi ^{1/2} 2^v v!)^{-1/2}$.</div>"
   ]
  },
  {
   "cell_type": "code",
   "execution_count": 22,
   "id": "6fb67f03",
   "metadata": {},
   "outputs": [
    {
     "name": "stdout",
     "output_type": "stream",
     "text": [
      "N expected: pi**(-0.25)\n",
      "N calculated (norm psi): 1.0/pi**(1/4)\n",
      "OK\n",
      "N expected: 0.707106781186548/pi**0.25\n",
      "N calculated (norm psi): 0.707106781186547/pi**(1/4)\n",
      "OK\n",
      "N expected: 0.353553390593274/pi**0.25\n",
      "N calculated (norm psi): 0.353553390593274/pi**(1/4)\n",
      "OK\n",
      "N expected: 0.144337567297406/pi**0.25\n",
      "N calculated (norm psi): 0.144337567297406/pi**(1/4)\n",
      "OK\n",
      "N expected: 0.0510310363079829/pi**0.25\n",
      "N calculated (norm psi): 0.0510310363079829/pi**(1/4)\n",
      "OK\n",
      "N expected: 0.0161374306091976/pi**0.25\n",
      "N calculated (norm psi): 0.0161374306091976/pi**(1/4)\n",
      "OK\n",
      "N expected: 0.00465847495312456/pi**0.25\n",
      "N calculated (norm psi): 0.00465847495312456/pi**(1/4)\n",
      "OK\n"
     ]
    }
   ],
   "source": [
    "# insert your code here\n",
    "\n",
    "pi=sp.symbols('pi')\n",
    "\n",
    "def norm(v):\n",
    "    \"\"\"\n",
    "    This function evaluates the norm of the wave function on the level v  \n",
    "    input: -v: level\n",
    "    output: the norm of the wave function\n",
    "    \"\"\"\n",
    "    psi=H[v]*sp.exp(-(y**2)/2)\n",
    "    if np.imag(psi)==0:\n",
    "        n=1/sp.sqrt(sp.integrate(psi*psi,(x,-sp.oo,sp.oo)))\n",
    "    else:\n",
    "        n=1/sp.sqrt(sp.integrate(sp.conjugate(psi)*psi,(x,-sp.oo,sp.oo)))\n",
    "    return n\n",
    "\n",
    "norm_psi=[]\n",
    "#storing the norms of each psi using the function defined above\n",
    "for i in range(0,7):\n",
    "    norm_psi.insert(i,norm(i))\n",
    "\n",
    "n_exp=[]\n",
    "\n",
    "#storing the expected values of the norms of each psi\n",
    "for i in range (0,7):\n",
    "    n_expect=((sp.pi**(1/2))*(2**i)*(sp.factorial(i)))**(-1/2)\n",
    "    n_exp.insert(i,n_expect)\n",
    "\n",
    "#comparing the two values for some levels and checking if it is ok or not\n",
    "for i in range (0,7):\n",
    "    print(f\"N expected: {n_exp[i]}\\nN calculated (norm psi): {norm_psi[i]}\")\n",
    "    if norm_psi[i].evalf(10) == n_exp[i].evalf(10):\n",
    "        print(\"OK\")\n",
    "    else:\n",
    "        print(\"not OK\")"
   ]
  },
  {
   "cell_type": "markdown",
   "id": "b0cc057c",
   "metadata": {},
   "source": [
    "## Wavefunctions\n",
    "\n",
    "<div class=\"rqT\" title=\"Directives\">\n",
    "    \n",
    "From now on, you have to do symbolic algebra with the SymPy library.\n",
    "</div>"
   ]
  },
  {
   "cell_type": "markdown",
   "id": "3e339191",
   "metadata": {},
   "source": [
    "<div class=\"exE\">\n",
    "Compute the left-hand side of Schrödinger equation to verify that $\\Psi_v(x)$ and $E_v$ are eigenfunctions and eigenvalues."
   ]
  },
  {
   "cell_type": "code",
   "execution_count": 23,
   "id": "5e4b6a62",
   "metadata": {},
   "outputs": [
    {
     "name": "stdout",
     "output_type": "stream",
     "text": [
      "\n",
      "\n",
      "Left side:\n"
     ]
    },
    {
     "data": {
      "text/latex": [
       "$\\displaystyle \\frac{0.5 e^{- 0.5 x^{2}}}{\\sqrt[4]{\\pi}}$"
      ],
      "text/plain": [
       "0.5*exp(-0.5*x**2)/pi**(1/4)"
      ]
     },
     "execution_count": 23,
     "metadata": {},
     "output_type": "execute_result"
    },
    {
     "name": "stdout",
     "output_type": "stream",
     "text": [
      "Calculated energy:0.500\n",
      "Psi:\n"
     ]
    },
    {
     "data": {
      "text/latex": [
       "$\\displaystyle \\frac{1.0 e^{- 0.5 x^{2}}}{\\sqrt[4]{\\pi}}$"
      ],
      "text/plain": [
       "1.0*exp(-0.5*x**2)/pi**(1/4)"
      ]
     },
     "execution_count": 23,
     "metadata": {},
     "output_type": "execute_result"
    },
    {
     "name": "stdout",
     "output_type": "stream",
     "text": [
      "Eigenvalue:0.500\n",
      "OK\n",
      "\n",
      "\n",
      "Left side:\n"
     ]
    },
    {
     "data": {
      "text/latex": [
       "$\\displaystyle \\frac{2.12132034355964 x e^{- 0.5 x^{2}}}{\\sqrt[4]{\\pi}}$"
      ],
      "text/plain": [
       "2.12132034355964*x*exp(-0.5*x**2)/pi**(1/4)"
      ]
     },
     "execution_count": 23,
     "metadata": {},
     "output_type": "execute_result"
    },
    {
     "name": "stdout",
     "output_type": "stream",
     "text": [
      "Calculated energy:1.500\n",
      "Psi:\n"
     ]
    },
    {
     "data": {
      "text/latex": [
       "$\\displaystyle \\frac{1.41421356237309 x e^{- 0.5 x^{2}}}{\\sqrt[4]{\\pi}}$"
      ],
      "text/plain": [
       "1.41421356237309*x*exp(-0.5*x**2)/pi**(1/4)"
      ]
     },
     "execution_count": 23,
     "metadata": {},
     "output_type": "execute_result"
    },
    {
     "name": "stdout",
     "output_type": "stream",
     "text": [
      "Eigenvalue:1.500\n",
      "OK\n",
      "\n",
      "\n",
      "Left side:\n"
     ]
    },
    {
     "data": {
      "text/latex": [
       "$\\displaystyle \\frac{2.82842712474619 x^{2} e^{- 0.5 x^{2}}}{\\sqrt[4]{\\pi}} + \\frac{0.176776695296637 \\cdot \\left(4.0 x^{2} - 2\\right) e^{- 0.5 x^{2}}}{\\sqrt[4]{\\pi}} - \\frac{1.41421356237309 e^{- 0.5 x^{2}}}{\\sqrt[4]{\\pi}}$"
      ],
      "text/plain": [
       "2.82842712474619*x**2*exp(-0.5*x**2)/pi**(1/4) + 0.176776695296637*(4.0*x**2 - 2)*exp(-0.5*x**2)/pi**(1/4) - 1.41421356237309*exp(-0.5*x**2)/pi**(1/4)"
      ]
     },
     "execution_count": 23,
     "metadata": {},
     "output_type": "execute_result"
    },
    {
     "name": "stdout",
     "output_type": "stream",
     "text": [
      "Calculated energy:2.500\n",
      "Psi:\n"
     ]
    },
    {
     "data": {
      "text/latex": [
       "$\\displaystyle \\frac{0.353553390593274 \\cdot \\left(4.0 x^{2} - 2\\right) e^{- 0.5 x^{2}}}{\\sqrt[4]{\\pi}}$"
      ],
      "text/plain": [
       "0.353553390593274*(4.0*x**2 - 2)*exp(-0.5*x**2)/pi**(1/4)"
      ]
     },
     "execution_count": 23,
     "metadata": {},
     "output_type": "execute_result"
    },
    {
     "name": "stdout",
     "output_type": "stream",
     "text": [
      "Eigenvalue:2.500\n",
      "OK\n",
      "\n",
      "\n",
      "Left side:\n"
     ]
    },
    {
     "data": {
      "text/latex": [
       "$\\displaystyle \\frac{0.144337567297406 x \\left(24.0 x^{2} - 12.0\\right) e^{- 0.5 x^{2}}}{\\sqrt[4]{\\pi}} - \\frac{3.46410161513776 x e^{- 0.5 x^{2}}}{\\sqrt[4]{\\pi}} + \\frac{0.0721687836487032 \\cdot \\left(2.0 x \\left(4.0 x^{2} - 2\\right) - 8.0 x\\right) e^{- 0.5 x^{2}}}{\\sqrt[4]{\\pi}}$"
      ],
      "text/plain": [
       "0.144337567297406*x*(24.0*x**2 - 12.0)*exp(-0.5*x**2)/pi**(1/4) - 3.46410161513776*x*exp(-0.5*x**2)/pi**(1/4) + 0.0721687836487032*(2.0*x*(4.0*x**2 - 2) - 8.0*x)*exp(-0.5*x**2)/pi**(1/4)"
      ]
     },
     "execution_count": 23,
     "metadata": {},
     "output_type": "execute_result"
    },
    {
     "name": "stdout",
     "output_type": "stream",
     "text": [
      "Calculated energy:3.500\n",
      "Psi:\n"
     ]
    },
    {
     "data": {
      "text/latex": [
       "$\\displaystyle \\frac{0.144337567297406 \\cdot \\left(2.0 x \\left(4.0 x^{2} - 2\\right) - 8.0 x\\right) e^{- 0.5 x^{2}}}{\\sqrt[4]{\\pi}}$"
      ],
      "text/plain": [
       "0.144337567297406*(2.0*x*(4.0*x**2 - 2) - 8.0*x)*exp(-0.5*x**2)/pi**(1/4)"
      ]
     },
     "execution_count": 23,
     "metadata": {},
     "output_type": "execute_result"
    },
    {
     "name": "stdout",
     "output_type": "stream",
     "text": [
      "Eigenvalue:3.500\n",
      "OK\n",
      "\n",
      "\n",
      "Left side:\n"
     ]
    },
    {
     "data": {
      "text/latex": [
       "$\\displaystyle \\frac{0.0510310363079829 x \\left(4.0 x \\left(4.0 x^{2} - 2\\right) + 2.0 x \\left(24.0 x^{2} - 12.0\\right) - 64.0 x\\right) e^{- 0.5 x^{2}}}{\\sqrt[4]{\\pi}} - \\frac{0.0255155181539914 \\cdot \\left(192.0 x^{2} - 96.0\\right) e^{- 0.5 x^{2}}}{\\sqrt[4]{\\pi}} + \\frac{0.0255155181539914 \\left(- 24.0 x^{2} + 2.0 x \\left(2.0 x \\left(4.0 x^{2} - 2\\right) - 8.0 x\\right) + 12\\right) e^{- 0.5 x^{2}}}{\\sqrt[4]{\\pi}}$"
      ],
      "text/plain": [
       "0.0510310363079829*x*(4.0*x*(4.0*x**2 - 2) + 2.0*x*(24.0*x**2 - 12.0) - 64.0*x)*exp(-0.5*x**2)/pi**(1/4) - 0.0255155181539914*(192.0*x**2 - 96.0)*exp(-0.5*x**2)/pi**(1/4) + 0.0255155181539914*(-24.0*x**2 + 2.0*x*(2.0*x*(4.0*x**2 - 2) - 8.0*x) + 12)*exp(-0.5*x**2)/pi**(1/4)"
      ]
     },
     "execution_count": 23,
     "metadata": {},
     "output_type": "execute_result"
    },
    {
     "name": "stdout",
     "output_type": "stream",
     "text": [
      "Calculated energy:4.500\n",
      "Psi:\n"
     ]
    },
    {
     "data": {
      "text/latex": [
       "$\\displaystyle \\frac{0.0510310363079829 \\left(- 24.0 x^{2} + 2.0 x \\left(2.0 x \\left(4.0 x^{2} - 2\\right) - 8.0 x\\right) + 12\\right) e^{- 0.5 x^{2}}}{\\sqrt[4]{\\pi}}$"
      ],
      "text/plain": [
       "0.0510310363079829*(-24.0*x**2 + 2.0*x*(2.0*x*(4.0*x**2 - 2) - 8.0*x) + 12)*exp(-0.5*x**2)/pi**(1/4)"
      ]
     },
     "execution_count": 23,
     "metadata": {},
     "output_type": "execute_result"
    },
    {
     "name": "stdout",
     "output_type": "stream",
     "text": [
      "Eigenvalue:4.500\n",
      "OK\n",
      "\n",
      "\n",
      "Left side:\n"
     ]
    },
    {
     "data": {
      "text/latex": [
       "$\\displaystyle \\frac{0.0161374306091976 x \\left(- 240.0 x^{2} + 4.0 x \\left(2.0 x \\left(4.0 x^{2} - 2\\right) - 8.0 x\\right) + 2.0 x \\left(4.0 x \\left(4.0 x^{2} - 2\\right) + 2.0 x \\left(24.0 x^{2} - 12.0\\right) - 64.0 x\\right) + 120.0\\right) e^{- 0.5 x^{2}}}{\\sqrt[4]{\\pi}} + \\frac{0.00806871530459878 \\left(- 16.0 x \\left(4.0 x^{2} - 2\\right) + 2.0 x \\left(- 24.0 x^{2} + 2.0 x \\left(2.0 x \\left(4.0 x^{2} - 2\\right) - 8.0 x\\right) + 12\\right) + 64.0 x\\right) e^{- 0.5 x^{2}}}{\\sqrt[4]{\\pi}} - \\frac{0.00806871530459878 \\cdot \\left(16.0 x \\left(4.0 x^{2} - 2\\right) + 8.0 x \\left(24.0 x^{2} - 12.0\\right) + 2.0 x \\left(192.0 x^{2} - 96.0\\right) - 640.0 x\\right) e^{- 0.5 x^{2}}}{\\sqrt[4]{\\pi}}$"
      ],
      "text/plain": [
       "0.0161374306091976*x*(-240.0*x**2 + 4.0*x*(2.0*x*(4.0*x**2 - 2) - 8.0*x) + 2.0*x*(4.0*x*(4.0*x**2 - 2) + 2.0*x*(24.0*x**2 - 12.0) - 64.0*x) + 120.0)*exp(-0.5*x**2)/pi**(1/4) + 0.00806871530459878*(-16.0*x*(4.0*x**2 - 2) + 2.0*x*(-24.0*x**2 + 2.0*x*(2.0*x*(4.0*x**2 - 2) - 8.0*x) + 12) + 64.0*x)*exp(-0.5*x**2)/pi**(1/4) - 0.00806871530459878*(16.0*x*(4.0*x**2 - 2) + 8.0*x*(24.0*x**2 - 12.0) + 2.0*x*(192.0*x**2 - 96.0) - 640.0*x)*exp(-0.5*x**2)/pi**(1/4)"
      ]
     },
     "execution_count": 23,
     "metadata": {},
     "output_type": "execute_result"
    },
    {
     "name": "stdout",
     "output_type": "stream",
     "text": [
      "Calculated energy:5.500\n",
      "Psi:\n"
     ]
    },
    {
     "data": {
      "text/latex": [
       "$\\displaystyle \\frac{0.0161374306091976 \\left(- 16.0 x \\left(4.0 x^{2} - 2\\right) + 2.0 x \\left(- 24.0 x^{2} + 2.0 x \\left(2.0 x \\left(4.0 x^{2} - 2\\right) - 8.0 x\\right) + 12\\right) + 64.0 x\\right) e^{- 0.5 x^{2}}}{\\sqrt[4]{\\pi}}$"
      ],
      "text/plain": [
       "0.0161374306091976*(-16.0*x*(4.0*x**2 - 2) + 2.0*x*(-24.0*x**2 + 2.0*x*(2.0*x*(4.0*x**2 - 2) - 8.0*x) + 12) + 64.0*x)*exp(-0.5*x**2)/pi**(1/4)"
      ]
     },
     "execution_count": 23,
     "metadata": {},
     "output_type": "execute_result"
    },
    {
     "name": "stdout",
     "output_type": "stream",
     "text": [
      "Eigenvalue:5.500\n",
      "OK\n",
      "\n",
      "\n",
      "Left side:\n"
     ]
    },
    {
     "data": {
      "text/latex": [
       "$\\displaystyle \\frac{0.00465847495312456 x \\left(- 72.0 x \\left(4.0 x^{2} - 2\\right) - 20.0 x \\left(24.0 x^{2} - 12.0\\right) + 4.0 x \\left(- 24.0 x^{2} + 2.0 x \\left(2.0 x \\left(4.0 x^{2} - 2\\right) - 8.0 x\\right) + 12\\right) + 2.0 x \\left(- 240.0 x^{2} + 4.0 x \\left(2.0 x \\left(4.0 x^{2} - 2\\right) - 8.0 x\\right) + 2.0 x \\left(4.0 x \\left(4.0 x^{2} - 2\\right) + 2.0 x \\left(24.0 x^{2} - 12.0\\right) - 64.0 x\\right) + 120.0\\right) + 768.0 x\\right) e^{- 0.5 x^{2}}}{\\sqrt[4]{\\pi}} + \\frac{0.00232923747656228 \\cdot \\left(240.0 x^{2} - 20.0 x \\left(2.0 x \\left(4.0 x^{2} - 2\\right) - 8.0 x\\right) + 2.0 x \\left(- 16.0 x \\left(4.0 x^{2} - 2\\right) + 2.0 x \\left(- 24.0 x^{2} + 2.0 x \\left(2.0 x \\left(4.0 x^{2} - 2\\right) - 8.0 x\\right) + 12\\right) + 64.0 x\\right) - 120\\right) e^{- 0.5 x^{2}}}{\\sqrt[4]{\\pi}} - \\frac{0.00232923747656228 \\left(- 2880.0 x^{2} + 16.0 x \\left(2.0 x \\left(4.0 x^{2} - 2\\right) - 8.0 x\\right) + 8.0 x \\left(4.0 x \\left(4.0 x^{2} - 2\\right) + 2.0 x \\left(24.0 x^{2} - 12.0\\right) - 64.0 x\\right) + 2.0 x \\left(16.0 x \\left(4.0 x^{2} - 2\\right) + 8.0 x \\left(24.0 x^{2} - 12.0\\right) + 2.0 x \\left(192.0 x^{2} - 96.0\\right) - 640.0 x\\right) + 1440.0\\right) e^{- 0.5 x^{2}}}{\\sqrt[4]{\\pi}}$"
      ],
      "text/plain": [
       "0.00465847495312456*x*(-72.0*x*(4.0*x**2 - 2) - 20.0*x*(24.0*x**2 - 12.0) + 4.0*x*(-24.0*x**2 + 2.0*x*(2.0*x*(4.0*x**2 - 2) - 8.0*x) + 12) + 2.0*x*(-240.0*x**2 + 4.0*x*(2.0*x*(4.0*x**2 - 2) - 8.0*x) + 2.0*x*(4.0*x*(4.0*x**2 - 2) + 2.0*x*(24.0*x**2 - 12.0) - 64.0*x) + 120.0) + 768.0*x)*exp(-0.5*x**2)/pi**(1/4) + 0.00232923747656228*(240.0*x**2 - 20.0*x*(2.0*x*(4.0*x**2 - 2) - 8.0*x) + 2.0*x*(-16.0*x*(4.0*x**2 - 2) + 2.0*x*(-24.0*x**2 + 2.0*x*(2.0*x*(4.0*x**2 - 2) - 8.0*x) + 12) + 64.0*x) - 120)*exp(-0.5*x**2)/pi**(1/4) - 0.00232923747656228*(-2880.0*x**2 + 16.0*x*(2.0*x*(4.0*x**2 - 2) - 8.0*x) + 8.0*x*(4.0*x*(4.0*x**2 - 2) + 2.0*x*(24.0*x**2 - 12.0) - 64.0*x) + 2.0*x*(16.0*x*(4.0*x**2 - 2) + 8.0*x*(24.0*x**2 - 12.0) + 2.0*x*(192.0*x**2 - 96.0) - 640.0*x) + 1440.0)*exp(-0.5*x**2)/pi**(1/4)"
      ]
     },
     "execution_count": 23,
     "metadata": {},
     "output_type": "execute_result"
    },
    {
     "name": "stdout",
     "output_type": "stream",
     "text": [
      "Calculated energy:6.500\n",
      "Psi:\n"
     ]
    },
    {
     "data": {
      "text/latex": [
       "$\\displaystyle \\frac{0.00465847495312456 \\cdot \\left(240.0 x^{2} - 20.0 x \\left(2.0 x \\left(4.0 x^{2} - 2\\right) - 8.0 x\\right) + 2.0 x \\left(- 16.0 x \\left(4.0 x^{2} - 2\\right) + 2.0 x \\left(- 24.0 x^{2} + 2.0 x \\left(2.0 x \\left(4.0 x^{2} - 2\\right) - 8.0 x\\right) + 12\\right) + 64.0 x\\right) - 120\\right) e^{- 0.5 x^{2}}}{\\sqrt[4]{\\pi}}$"
      ],
      "text/plain": [
       "0.00465847495312456*(240.0*x**2 - 20.0*x*(2.0*x*(4.0*x**2 - 2) - 8.0*x) + 2.0*x*(-16.0*x*(4.0*x**2 - 2) + 2.0*x*(-24.0*x**2 + 2.0*x*(2.0*x*(4.0*x**2 - 2) - 8.0*x) + 12) + 64.0*x) - 120)*exp(-0.5*x**2)/pi**(1/4)"
      ]
     },
     "execution_count": 23,
     "metadata": {},
     "output_type": "execute_result"
    },
    {
     "name": "stdout",
     "output_type": "stream",
     "text": [
      "Eigenvalue:6.500\n",
      "OK\n"
     ]
    }
   ],
   "source": [
    "# insert your code here\n",
    "omega=sp.sqrt(k/m)\n",
    "\n",
    "def hamilt(f):\n",
    "    \"\"\"\n",
    "    This function evaluates the hamiltonian of a function \n",
    "    input: -f: function\n",
    "    output: the hamiltonian of the function\n",
    "    \"\"\"\n",
    "    d1=sp.diff(f,x)\n",
    "    d2=sp.diff(d1,x)\n",
    "    hf=((-hbar/(2*m))*d2)+(((1/2)*k*(x**2))*f)\n",
    "    return hf\n",
    "\n",
    "def evs(v):\n",
    "    \"\"\"\n",
    "    This function evaluates the energy of the wave function on the level v  \n",
    "    input: -v: level\n",
    "    output: the energy of the wave function\n",
    "    \"\"\"\n",
    "    e=(v+(1/2))*hbar*omega\n",
    "    return e\n",
    "\n",
    "psi=[]\n",
    "#storing the wave functions\n",
    "for i in range (0,7):\n",
    "    psi1=norm_psi[i]*H[i]*sp.exp(-(y**2)/2)\n",
    "    psi.insert(i,psi1)\n",
    "\n",
    "    \n",
    "left_side=[]\n",
    "#evaluating the left side of the Schrodinger equation\n",
    "for i in range (0,7):\n",
    "    left_side.insert(i,hamilt(psi[i]))\n",
    "\n",
    "    \n",
    "e_vs_calc=[]\n",
    "#storing the energies calculated using the relation previous provided\n",
    "for i in range (0,7):\n",
    "    e_vs_calc.insert(i,evs(i))\n",
    "\n",
    "eigenvalues=[]\n",
    "#evaluating and storing the eigenvalues\n",
    "for i in range (0,7):\n",
    "    eigenvalues.insert(i,(left_side[i]/psi[i]))\n",
    "\n",
    "\n",
    "for i in range(0,7):\n",
    "    if sp.simplify(e_test[i])==e_vs_calc[i]:\n",
    "        print(f\"\\n\\nLeft side:\")\n",
    "        left_side[i]\n",
    "        print(f\"Calculated energy:{e_vs_calc[i]:.3f}\")\n",
    "        print(\"Psi:\")\n",
    "        psi[i]\n",
    "        print(f\"Eigenvalue:{sp.simplify(eigenvalues[i]):.3f}\")\n",
    "        print(\"OK\")\n",
    "    else:\n",
    "        print(\"not OK\")\n",
    "    \n",
    "\n",
    "\n"
   ]
  },
  {
   "cell_type": "markdown",
   "id": "45034f54-7d8d-4762-95fc-70b06d60160c",
   "metadata": {},
   "source": [
    "#### Lowest wavefunctions and their associated energy"
   ]
  },
  {
   "cell_type": "markdown",
   "id": "124f3a91",
   "metadata": {},
   "source": [
    "<div class=\"exE\">\n",
    "    \n",
    "Complete the previous plot by plotting the $\\Psi_v(x)$ at level $E_v$."
   ]
  },
  {
   "cell_type": "code",
   "execution_count": 24,
   "id": "5765e3db",
   "metadata": {},
   "outputs": [
    {
     "data": {
      "text/plain": [
       "[<matplotlib.lines.Line2D at 0x7fa676c28350>]"
      ]
     },
     "execution_count": 24,
     "metadata": {},
     "output_type": "execute_result"
    },
    {
     "data": {
      "text/plain": [
       "Text(0.5, 1.0, 'Harmonic Potential vs. $x$')"
      ]
     },
     "execution_count": 24,
     "metadata": {},
     "output_type": "execute_result"
    },
    {
     "data": {
      "text/plain": [
       "Text(0.5, 0, '$x$')"
      ]
     },
     "execution_count": 24,
     "metadata": {},
     "output_type": "execute_result"
    },
    {
     "data": {
      "text/plain": [
       "Text(0, 0.5, '$V_{harmonic}$')"
      ]
     },
     "execution_count": 24,
     "metadata": {},
     "output_type": "execute_result"
    },
    {
     "data": {
      "text/plain": [
       "<function matplotlib.pyplot.show(close=None, block=None)>"
      ]
     },
     "execution_count": 24,
     "metadata": {},
     "output_type": "execute_result"
    },
    {
     "data": {
      "text/plain": [
       "[<matplotlib.lines.Line2D at 0x7fa676d90650>]"
      ]
     },
     "execution_count": 24,
     "metadata": {},
     "output_type": "execute_result"
    },
    {
     "data": {
      "text/plain": [
       "<matplotlib.legend.Legend at 0x7fa679c7cbd0>"
      ]
     },
     "execution_count": 24,
     "metadata": {},
     "output_type": "execute_result"
    },
    {
     "data": {
      "text/plain": [
       "<function matplotlib.pyplot.show(close=None, block=None)>"
      ]
     },
     "execution_count": 24,
     "metadata": {},
     "output_type": "execute_result"
    },
    {
     "data": {
      "text/plain": [
       "[<matplotlib.lines.Line2D at 0x7fa679c58a50>]"
      ]
     },
     "execution_count": 24,
     "metadata": {},
     "output_type": "execute_result"
    },
    {
     "data": {
      "text/plain": [
       "<matplotlib.legend.Legend at 0x7fa6770a2690>"
      ]
     },
     "execution_count": 24,
     "metadata": {},
     "output_type": "execute_result"
    },
    {
     "data": {
      "text/plain": [
       "<function matplotlib.pyplot.show(close=None, block=None)>"
      ]
     },
     "execution_count": 24,
     "metadata": {},
     "output_type": "execute_result"
    },
    {
     "data": {
      "text/plain": [
       "[<matplotlib.lines.Line2D at 0x7fa676d66f90>]"
      ]
     },
     "execution_count": 24,
     "metadata": {},
     "output_type": "execute_result"
    },
    {
     "data": {
      "text/plain": [
       "<matplotlib.legend.Legend at 0x7fa676d59650>"
      ]
     },
     "execution_count": 24,
     "metadata": {},
     "output_type": "execute_result"
    },
    {
     "data": {
      "text/plain": [
       "<function matplotlib.pyplot.show(close=None, block=None)>"
      ]
     },
     "execution_count": 24,
     "metadata": {},
     "output_type": "execute_result"
    },
    {
     "data": {
      "text/plain": [
       "[<matplotlib.lines.Line2D at 0x7fa676edd690>]"
      ]
     },
     "execution_count": 24,
     "metadata": {},
     "output_type": "execute_result"
    },
    {
     "data": {
      "text/plain": [
       "<matplotlib.legend.Legend at 0x7fa676ef5a10>"
      ]
     },
     "execution_count": 24,
     "metadata": {},
     "output_type": "execute_result"
    },
    {
     "data": {
      "text/plain": [
       "<function matplotlib.pyplot.show(close=None, block=None)>"
      ]
     },
     "execution_count": 24,
     "metadata": {},
     "output_type": "execute_result"
    },
    {
     "data": {
      "text/plain": [
       "[<matplotlib.lines.Line2D at 0x7fa6775ff150>]"
      ]
     },
     "execution_count": 24,
     "metadata": {},
     "output_type": "execute_result"
    },
    {
     "data": {
      "text/plain": [
       "<matplotlib.legend.Legend at 0x7fa676ed42d0>"
      ]
     },
     "execution_count": 24,
     "metadata": {},
     "output_type": "execute_result"
    },
    {
     "data": {
      "text/plain": [
       "<function matplotlib.pyplot.show(close=None, block=None)>"
      ]
     },
     "execution_count": 24,
     "metadata": {},
     "output_type": "execute_result"
    },
    {
     "data": {
      "text/plain": [
       "[<matplotlib.lines.Line2D at 0x7fa676fd7bd0>]"
      ]
     },
     "execution_count": 24,
     "metadata": {},
     "output_type": "execute_result"
    },
    {
     "data": {
      "text/plain": [
       "<matplotlib.legend.Legend at 0x7fa676b8ce90>"
      ]
     },
     "execution_count": 24,
     "metadata": {},
     "output_type": "execute_result"
    },
    {
     "data": {
      "text/plain": [
       "<function matplotlib.pyplot.show(close=None, block=None)>"
      ]
     },
     "execution_count": 24,
     "metadata": {},
     "output_type": "execute_result"
    },
    {
     "data": {
      "text/plain": [
       "[<matplotlib.lines.Line2D at 0x7fa676b8ca10>]"
      ]
     },
     "execution_count": 24,
     "metadata": {},
     "output_type": "execute_result"
    },
    {
     "data": {
      "text/plain": [
       "<matplotlib.legend.Legend at 0x7fa677339290>"
      ]
     },
     "execution_count": 24,
     "metadata": {},
     "output_type": "execute_result"
    },
    {
     "data": {
      "text/plain": [
       "<function matplotlib.pyplot.show(close=None, block=None)>"
      ]
     },
     "execution_count": 24,
     "metadata": {},
     "output_type": "execute_result"
    },
    {
     "data": {
      "image/png": "[encoded data removed]",
      "text/plain": [
       "<Figure size 640x480 with 1 Axes>"
      ]
     },
     "metadata": {},
     "output_type": "display_data"
    }
   ],
   "source": [
    "#### Plots\n",
    "\n",
    "#creating lists for the plots' labels and colors\n",
    "labels=['v=0','v=1','v=2','v=3','v=4','v=5','v=6']\n",
    "colors=['magenta','orange','yellow','green','blue','purple','cyan']\n",
    "\n",
    "#plotting the harmonic potential as before\n",
    "plt.plot(_x, _harmpot(_x), color='red', label=\"Harmonic potential\")\n",
    "plt.title('Harmonic Potential vs. $x$')\n",
    "plt.xlabel(\"$x$\")\n",
    "plt.ylabel(\"$V_{harmonic}$\")\n",
    "plt.show\n",
    "#plotting the wave functions over the harmonic potential plot, on their respective energies\n",
    "for i in range(0,7):\n",
    "    _psi=sp.lambdify([x], psi[i])\n",
    "    _x = np.linspace(-5.,5.,250)\n",
    "    plt.plot(_x, _psi(_x)+evs(i), color=colors[i], label=labels[i])\n",
    "    plt.legend()\n",
    "    plt.show\n"
   ]
  },
  {
   "cell_type": "markdown",
   "id": "0272e1b2",
   "metadata": {},
   "source": [
    "### Expectations values\n",
    "\n",
    "<div class=\"intro\">\n",
    "\n",
    "The expectation value of an observable $\\Omega$ is given by\n",
    "$$<\\Omega >=\\int_{-\\infty}^{+\\infty}{\\Psi^*_v \\Omega \\Psi_v dx}$$   "
   ]
  },
  {
   "cell_type": "markdown",
   "id": "93b13247",
   "metadata": {},
   "source": [
    "<div class=\"exE\">    \n",
    "Show that, with the values chosen for the constants, $<x^2>=v+\\frac{1}{2}$."
   ]
  },
  {
   "cell_type": "code",
   "execution_count": 25,
   "id": "490cf746",
   "metadata": {},
   "outputs": [
    {
     "name": "stdout",
     "output_type": "stream",
     "text": [
      "\n",
      "\n",
      "v=0\n",
      "Expected value:0.500\n",
      "OK\n",
      "\n",
      "\n",
      "v=1\n",
      "Expected value:1.500\n",
      "OK\n",
      "\n",
      "\n",
      "v=2\n",
      "Expected value:2.500\n",
      "OK\n",
      "\n",
      "\n",
      "v=3\n",
      "Expected value:3.500\n",
      "OK\n",
      "\n",
      "\n",
      "v=4\n",
      "Expected value:4.500\n",
      "OK\n",
      "\n",
      "\n",
      "v=5\n",
      "Expected value:5.500\n",
      "OK\n",
      "\n",
      "\n",
      "v=6\n",
      "Expected value:6.500\n",
      "OK\n"
     ]
    }
   ],
   "source": [
    "# insert your code here\n",
    "\n",
    "def expect_value(f,x):\n",
    "    \"\"\"\n",
    "    This function evaluates the expectation value of an operator x**2 with respect to a function f  \n",
    "    input: -f: function\n",
    "           -x: operator\n",
    "    output: the expectation value of x**2 with respect to f\n",
    "    \"\"\"\n",
    "    if np.imag(f)==0:\n",
    "        expv=sp.integrate(f*(x**2)*f,(x,-sp.oo,sp.oo)).evalf(3)\n",
    "    else:\n",
    "        expv=sp.integrate(sp.conjugate(f)*(x**2)*f,(x,-sp.oo,sp.oo)).evalf(3)\n",
    "    return expv\n",
    "\n",
    "exp_val=[]\n",
    "#evaluating and storing the expectation values with the previous defined function\n",
    "for i in range(0,7):\n",
    "    exp_val.insert(i,expect_value(psi[i],x))\n",
    "    \n",
    "#printing the levels, the expected value, and if they are the same as expected, according to the exercise\n",
    "for i in range(0,7):\n",
    "    if exp_val[i]==(i+(1/2)):\n",
    "        print(f\"\\n\\nv={i}\\nExpected value:{exp_val[i]:.3f}\")\n",
    "        print(\"OK\")\n",
    "    else:\n",
    "        print(\"not OK\")\n"
   ]
  },
  {
   "cell_type": "markdown",
   "id": "bc6d4887",
   "metadata": {},
   "source": [
    "<div class=\"exE\">\n",
    "Search the nodes of the wavefunctions (<i>ie</i> solve $H_v(y)=0$) for different values of $v$ and make a plot of these nodes.\n",
    "\n",
    "</div>"
   ]
  },
  {
   "cell_type": "code",
   "execution_count": 9,
   "id": "2a36acfc-f44a-4a3c-8835-e0cf044da240",
   "metadata": {},
   "outputs": [
    {
     "data": {
      "text/plain": [
       "[<matplotlib.lines.Line2D at 0x7fa676d90790>]"
      ]
     },
     "execution_count": 9,
     "metadata": {},
     "output_type": "execute_result"
    },
    {
     "data": {
      "text/plain": [
       "[<matplotlib.lines.Line2D at 0x7fa6775300d0>]"
      ]
     },
     "execution_count": 9,
     "metadata": {},
     "output_type": "execute_result"
    },
    {
     "data": {
      "text/plain": [
       "<matplotlib.legend.Legend at 0x7fa6772080d0>"
      ]
     },
     "execution_count": 9,
     "metadata": {},
     "output_type": "execute_result"
    },
    {
     "data": {
      "image/png": "[encoded data removed]",
      "text/plain": [
       "<Figure size 640x480 with 1 Axes>"
      ]
     },
     "metadata": {},
     "output_type": "display_data"
    },
    {
     "data": {
      "text/plain": [
       "[<matplotlib.lines.Line2D at 0x7fa676c05b90>]"
      ]
     },
     "execution_count": 9,
     "metadata": {},
     "output_type": "execute_result"
    },
    {
     "data": {
      "text/plain": [
       "[<matplotlib.lines.Line2D at 0x7fa676dd5710>]"
      ]
     },
     "execution_count": 9,
     "metadata": {},
     "output_type": "execute_result"
    },
    {
     "data": {
      "text/plain": [
       "<matplotlib.legend.Legend at 0x7fa6779e80d0>"
      ]
     },
     "execution_count": 9,
     "metadata": {},
     "output_type": "execute_result"
    },
    {
     "data": {
      "image/png": "[encoded data removed]",
      "text/plain": [
       "<Figure size 640x480 with 1 Axes>"
      ]
     },
     "metadata": {},
     "output_type": "display_data"
    },
    {
     "data": {
      "text/plain": [
       "[<matplotlib.lines.Line2D at 0x7fa676c67010>]"
      ]
     },
     "execution_count": 9,
     "metadata": {},
     "output_type": "execute_result"
    },
    {
     "data": {
      "text/plain": [
       "[<matplotlib.lines.Line2D at 0x7fa676c26a50>]"
      ]
     },
     "execution_count": 9,
     "metadata": {},
     "output_type": "execute_result"
    },
    {
     "data": {
      "text/plain": [
       "<matplotlib.legend.Legend at 0x7fa676c400d0>"
      ]
     },
     "execution_count": 9,
     "metadata": {},
     "output_type": "execute_result"
    },
    {
     "data": {
      "image/png": "[encoded data removed]",
      "text/plain": [
       "<Figure size 640x480 with 1 Axes>"
      ]
     },
     "metadata": {},
     "output_type": "display_data"
    },
    {
     "data": {
      "text/plain": [
       "[<matplotlib.lines.Line2D at 0x7fa676c7ce90>]"
      ]
     },
     "execution_count": 9,
     "metadata": {},
     "output_type": "execute_result"
    },
    {
     "data": {
      "text/plain": [
       "[<matplotlib.lines.Line2D at 0x7fa676df2d90>]"
      ]
     },
     "execution_count": 9,
     "metadata": {},
     "output_type": "execute_result"
    },
    {
     "data": {
      "text/plain": [
       "<matplotlib.legend.Legend at 0x7fa676c300d0>"
      ]
     },
     "execution_count": 9,
     "metadata": {},
     "output_type": "execute_result"
    },
    {
     "data": {
      "image/png": "[encoded data removed]",
      "text/plain": [
       "<Figure size 640x480 with 1 Axes>"
      ]
     },
     "metadata": {},
     "output_type": "display_data"
    },
    {
     "data": {
      "text/plain": [
       "[<matplotlib.lines.Line2D at 0x7fa676cb1150>]"
      ]
     },
     "execution_count": 9,
     "metadata": {},
     "output_type": "execute_result"
    },
    {
     "data": {
      "text/plain": [
       "[<matplotlib.lines.Line2D at 0x7fa676c15210>]"
      ]
     },
     "execution_count": 9,
     "metadata": {},
     "output_type": "execute_result"
    },
    {
     "data": {
      "text/plain": [
       "<matplotlib.legend.Legend at 0x7fa676ddea10>"
      ]
     },
     "execution_count": 9,
     "metadata": {},
     "output_type": "execute_result"
    },
    {
     "data": {
      "image/png": "[encoded data removed]",
      "text/plain": [
       "<Figure size 640x480 with 1 Axes>"
      ]
     },
     "metadata": {},
     "output_type": "display_data"
    },
    {
     "data": {
      "text/plain": [
       "[<matplotlib.lines.Line2D at 0x7fa676e9ff90>]"
      ]
     },
     "execution_count": 9,
     "metadata": {},
     "output_type": "execute_result"
    },
    {
     "data": {
      "text/plain": [
       "[<matplotlib.lines.Line2D at 0x7fa676c3d110>]"
      ]
     },
     "execution_count": 9,
     "metadata": {},
     "output_type": "execute_result"
    },
    {
     "data": {
      "text/plain": [
       "<matplotlib.legend.Legend at 0x7fa676db4910>"
      ]
     },
     "execution_count": 9,
     "metadata": {},
     "output_type": "execute_result"
    },
    {
     "data": {
      "image/png": "[encoded data removed]",
      "text/plain": [
       "<Figure size 640x480 with 1 Axes>"
      ]
     },
     "metadata": {},
     "output_type": "display_data"
    }
   ],
   "source": [
    "# insert your code here\n",
    "\n",
    "#creating dictionary for the zeros to be plotted due to the diveregence of \n",
    "zeros={0:[],\n",
    "       1:[0],\n",
    "       2:[0,0], \n",
    "       3:[0,0,0],\n",
    "       4:[0,0,0,0],\n",
    "       5:[0,0,0,0,0]}\n",
    "\n",
    "nodes={}\n",
    "\n",
    "\n",
    "for i in range(0,6):\n",
    "    H_solved=sp.solve(H[i],x)\n",
    "    nodes[i]=H_solved\n",
    "\n",
    "\n",
    "for i in range(0,6):\n",
    "    _x = np.linspace(-5.,5.,250)\n",
    "    _psi=sp.lambdify([x], psi[i])\n",
    "    plt.plot(_x, _psi(_x), color=colors[i], label=labels[i])\n",
    "    plt.plot(nodes[i], zeros[i], 'ro', label=\"node(s)\")\n",
    "    plt.legend()\n",
    "    plt.show()\n",
    "\n",
    "\n"
   ]
  },
  {
   "cell_type": "markdown",
   "id": "ae70f4a8-31d8-424f-a1a9-a53d74341511",
   "metadata": {},
   "source": [
    "# End"
   ]
  },
  {
   "cell_type": "code",
   "execution_count": 10,
   "id": "898a0af5-6513-4be2-8538-0d741a4c4478",
   "metadata": {},
   "outputs": [
    {
     "data": {
      "text/markdown": [
       "**End at:** Tuesday 05 December 2023, 19:23:48  \n",
       "**Duration:** 00:00:11 107ms"
      ],
      "text/plain": [
       "<IPython.core.display.Markdown object>"
      ]
     },
     "metadata": {},
     "output_type": "display_data"
    },
    {
     "data": {
      "text/markdown": [
       "<p style=\"text-align: center\"><img width=\"800px\" src=\"./config/svg/logoEnd.svg\" style=\"margin-left:auto; margin-right:auto\"/></p>"
      ],
      "text/plain": [
       "<IPython.core.display.Markdown object>"
      ]
     },
     "metadata": {},
     "output_type": "display_data"
    }
   ],
   "source": [
    "vID.end(cwd0)"
   ]
  },
  {
   "cell_type": "code",
   "execution_count": null,
   "id": "65198501-d1ca-46e5-a6b6-9d2fa6114d0a",
   "metadata": {},
   "outputs": [],
   "source": []
  }
 ],
 "metadata": {
  "kernelspec": {
   "display_name": "Python 3 (ipykernel)",
   "language": "python",
   "name": "python3"
  },
  "language_info": {
   "codemirror_mode": {
    "name": "ipython",
    "version": 3
   },
   "file_extension": ".py",
   "mimetype": "text/x-python",
   "name": "python",
   "nbconvert_exporter": "python",
   "pygments_lexer": "ipython3",
   "version": "3.11.5"
  },
  "toc-autonumbering": false,
  "toc-showcode": false,
  "toc-showmarkdowntxt": false,
  "toc-showtags": false
 },
 "nbformat": 4,
 "nbformat_minor": 5
}
